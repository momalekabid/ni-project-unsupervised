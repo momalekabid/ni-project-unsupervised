{
 "cells": [
  {
   "cell_type": "code",
   "execution_count": 1,
   "metadata": {},
   "outputs": [],
   "source": [
    "import sys\n",
    "sys.path.append(\"DYlib\")"
   ]
  },
  {
   "cell_type": "code",
   "execution_count": 2,
   "metadata": {},
   "outputs": [],
   "source": [
    "import samna\n",
    "import samna.dynapse1 as dyn1\n",
    "\n",
    "from dynapse1constants import *\n",
    "import dynapse1utils as ut\n",
    "\n",
    "import time\n",
    "import numpy as np\n",
    "import matplotlib.pyplot as plt"
   ]
  },
  {
   "cell_type": "code",
   "execution_count": 3,
   "metadata": {},
   "outputs": [
    {
     "name": "stdout",
     "output_type": "stream",
     "text": [
      "[0]:  Bus 1 Device 9 Dynapse1DevKit serial_number 00000020\n",
      "[1]:  Bus 1 Device 125 Dynapse1DevKit serial_number 00000030\n",
      "[2]:  Bus 1 Device 4 Dynapse1DevKit serial_number 00000092\n",
      "[3]:  Bus 1 Device 123 Dynapse1DevKit serial_number 00000000\n",
      "Sender port: tcp://0.0.0.0:34695\n",
      "Receiver port: tcp://0.0.0.0:46479\n",
      "Opened device name: Dynapse1DevKit\n",
      "SamnaNode ID: 1\n",
      "PythonNode ID: 2\n",
      "0 Dynapse1Wrapper created! libcaer init...\n",
      "Clearing chip 0... DONE.\n",
      "Clearing chip 1... DONE.\n",
      "Clearing chip 2... DONE.\n",
      "Clearing chip 3... DONE.\n"
     ]
    }
   ],
   "source": [
    "# open without GUI (for board connected to the remote machine)\n",
    "model, _ = ut.open_dynapse1(gui=False, sender_port=ut.free_port(), receiver_port=ut.free_port(), select_device=True)"
   ]
  },
  {
   "cell_type": "markdown",
   "metadata": {},
   "source": [
    "Applying Pre-made Demo Configuration for Chip 1 Core 0"
   ]
  },
  {
   "cell_type": "code",
   "execution_count": 4,
   "metadata": {},
   "outputs": [],
   "source": [
    "ut.set_parameters_in_txt_file(model, \"DYlib/working_best_C1c0_modified.txt\")"
   ]
  },
  {
   "cell_type": "markdown",
   "metadata": {},
   "source": [
    "## Monitor single neurons with oscilloscope (in Zemo Only)\n",
    "\n",
    "First, we make the board output the membrane voltage of a specific neuron to the output socket.\n",
    "\n",
    "**Note:** we specify `chip_id` __[0..3]__ and `neuron_id` __[0..1023]__, \n",
    "\n",
    "#### the oscilloscope probe should be connected to the socket of the  **chip 1 - core 0** (C1c0)."
   ]
  },
  {
   "cell_type": "code",
   "execution_count": 5,
   "metadata": {},
   "outputs": [],
   "source": [
    "chip_id = 1\n",
    "neuron_id = 3\n",
    "\n",
    "SPCM_probe_id=0"
   ]
  },
  {
   "cell_type": "code",
   "execution_count": 6,
   "metadata": {},
   "outputs": [],
   "source": [
    "api  =  model.get_dynapse1_api()\n",
    "api.monitor_neuron(chip_id, neuron_id)"
   ]
  },
  {
   "cell_type": "markdown",
   "metadata": {},
   "source": [
    "Specifying the neurons we are interested in\n",
    "\n",
    "IDs go as triplets (chip_id, core_id, n_id)"
   ]
  },
  {
   "cell_type": "code",
   "execution_count": 7,
   "metadata": {},
   "outputs": [
    {
     "data": {
      "text/plain": [
       "True"
      ]
     },
     "execution_count": 7,
     "metadata": {},
     "output_type": "execute_result"
    }
   ],
   "source": [
    "graph, filter_node, sink_node = ut.create_neuron_select_graph(model, np.array([[chip_id, 0, neuron_id]]))\n",
    "# Never forget to start the graph!\n",
    "graph.start()"
   ]
  },
  {
   "cell_type": "code",
   "execution_count": 8,
   "metadata": {},
   "outputs": [
    {
     "name": "stdout",
     "output_type": "stream",
     "text": [
      "526\n"
     ]
    },
    {
     "data": {
      "text/plain": [
       "Text(0, 0.5, 'neuron id')"
      ]
     },
     "execution_count": 8,
     "metadata": {},
     "output_type": "execute_result"
    },
    {
     "data": {
      "image/png": "[encoded data removed]",
      "text/plain": [
       "<Figure size 640x480 with 1 Axes>"
      ]
     },
     "metadata": {},
     "output_type": "display_data"
    }
   ],
   "source": [
    "evts = sink_node.get_events()\n",
    "print(len(evts))\n",
    "evts_n = np.array([[evt.timestamp, evt.neuron_id] for evt in evts])\n",
    "plt.plot(evts_n[:,0], evts_n[:,1], '.')\n",
    "plt.xlabel(\"time (s)\")\n",
    "plt.ylabel(\"neuron id\")"
   ]
  },
  {
   "cell_type": "markdown",
   "metadata": {},
   "source": [
    "#### Oscilloscope on Zemo access\n",
    "\n",
    "Using the `PySpcmScope` library, it is possible to get the traces directly from Zemo. \n",
    "There are two data acquisition methods called `single_shot` and `single_fifo_shot`. `single_shot` is used in the following. \n",
    "Please refer to [demo notebook](demo.ipynb) for the full class reference and examples.\n",
    " "
   ]
  },
  {
   "cell_type": "markdown",
   "metadata": {},
   "source": [
    "\n",
    "\n",
    "`single_shot` function, as the name implies, capture the data in a single brust and save that into the card memory-buffer. The data acquisition itself works as follows and can be called as many times with very low down-time:"
   ]
  },
  {
   "cell_type": "code",
   "execution_count": null,
   "metadata": {},
   "outputs": [
    {
     "name": "stdout",
     "output_type": "stream",
     "text": [
      "Found: M2i.3132-Exp sn 05474\n",
      "Init successful\n",
      "set input range to +/- 1000 mV\n",
      "ContBuf length: 0\n",
      "Using buffer allocated by user program\n",
      "... Timeout\n"
     ]
    },
    {
     "ename": "SystemExit",
     "evalue": "1",
     "output_type": "error",
     "traceback": [
      "An exception has occurred, use %tb to see the full traceback.\n",
      "\u001b[0;31mSystemExit\u001b[0m\u001b[0;31m:\u001b[0m 1\n"
     ]
    }
   ],
   "source": [
    "# from py_spcm_scope import PySpecScope\n",
    "# my_scope = PySpecScope()\n",
    "# my_scope.single_shot() \n",
    "%tb"
   ]
  },
  {
   "cell_type": "markdown",
   "metadata": {},
   "source": [
    "This captures the `200` KiloSamples of the data with a `100` KiloS/sec sampling rate i.e. you get a 2 sec long snippet of your data. Then you can extract the data either from single channel (depending on where you have connected) or from all the channels as follows \n",
    "\n"
   ]
  },
  {
   "cell_type": "code",
   "execution_count": 15,
   "metadata": {},
   "outputs": [
    {
     "ename": "AttributeError",
     "evalue": "'PySpecScope' object has no attribute 'pbyData'",
     "output_type": "error",
     "traceback": [
      "\u001b[0;31m---------------------------------------------------------------------------\u001b[0m",
      "\u001b[0;31mAttributeError\u001b[0m                            Traceback (most recent call last)",
      "Cell \u001b[0;32mIn[15], line 4\u001b[0m\n\u001b[1;32m      1\u001b[0m num_samples\u001b[38;5;241m=\u001b[39m\u001b[38;5;241m200\u001b[39m \u001b[38;5;66;03m#in Kilo Samples\u001b[39;00m\n\u001b[1;32m      2\u001b[0m sampling_rate\u001b[38;5;241m=\u001b[39m\u001b[38;5;241m100\u001b[39m \u001b[38;5;66;03m#in KHZ\u001b[39;00m\n\u001b[0;32m----> 4\u001b[0m abc\u001b[38;5;241m=\u001b[39m\u001b[43mmy_scope\u001b[49m\u001b[38;5;241;43m.\u001b[39;49m\u001b[43mget_waveform_single\u001b[49m\u001b[43m(\u001b[49m\u001b[43mCH_ID\u001b[49m\u001b[38;5;241;43m=\u001b[39;49m\u001b[43mSPCM_probe_id\u001b[49m\u001b[43m)\u001b[49m\n\u001b[1;32m      5\u001b[0m time\u001b[38;5;241m=\u001b[39mnp\u001b[38;5;241m.\u001b[39mlinspace(\u001b[38;5;241m0.0\u001b[39m, num_samples\u001b[38;5;241m/\u001b[39m(sampling_rate), num\u001b[38;5;241m=\u001b[39mnp\u001b[38;5;241m.\u001b[39mshape(abc)[\u001b[38;5;241m0\u001b[39m], endpoint\u001b[38;5;241m=\u001b[39m\u001b[38;5;28;01mTrue\u001b[39;00m)\n",
      "File \u001b[0;32m~/NI_project_dyuser-c_2025/malek/project/py_spcm_scope.py:64\u001b[0m, in \u001b[0;36mPySpecScope.get_waveform_single\u001b[0;34m(self, CH_ID)\u001b[0m\n\u001b[1;32m     62\u001b[0m \u001b[38;5;28;01mfor\u001b[39;00m i \u001b[38;5;129;01min\u001b[39;00m \u001b[38;5;28mrange\u001b[39m(\u001b[38;5;241m0\u001b[39m, \u001b[38;5;28mself\u001b[39m\u001b[38;5;241m.\u001b[39mlMemsize\u001b[38;5;241m.\u001b[39mvalue, \u001b[38;5;241m1\u001b[39m):\n\u001b[1;32m     63\u001b[0m     lDataPos \u001b[38;5;241m=\u001b[39m i \u001b[38;5;241m*\u001b[39m \u001b[38;5;28mself\u001b[39m\u001b[38;5;241m.\u001b[39mlSetChannels\u001b[38;5;241m.\u001b[39mvalue \u001b[38;5;241m+\u001b[39m \u001b[38;5;28mself\u001b[39m\u001b[38;5;241m.\u001b[39malSamplePos[lChannel]\n\u001b[0;32m---> 64\u001b[0m     result\u001b[38;5;241m.\u001b[39mappend(\u001b[38;5;28;43mself\u001b[39;49m\u001b[38;5;241;43m.\u001b[39;49m\u001b[43mpbyData\u001b[49m[lDataPos])\n\u001b[1;32m     66\u001b[0m result \u001b[38;5;241m=\u001b[39m np\u001b[38;5;241m.\u001b[39marray(result)\u001b[38;5;241m/\u001b[39m\u001b[38;5;241m2\u001b[39m \u001b[38;5;66;03m## Not sure why the values comes out like 2 times | Emperically found\u001b[39;00m\n\u001b[1;32m     67\u001b[0m \u001b[38;5;28;01mreturn\u001b[39;00m result[result\u001b[38;5;241m>\u001b[39m\u001b[38;5;241m0.0\u001b[39m]\n",
      "\u001b[0;31mAttributeError\u001b[0m: 'PySpecScope' object has no attribute 'pbyData'"
     ]
    }
   ],
   "source": [
    "num_samples=200 #in Kilo Samples\n",
    "sampling_rate=100 #in KHZ\n",
    "\n",
    "abc=my_scope.get_waveform_single(CH_ID=SPCM_probe_id)\n",
    "time=np.linspace(0.0, num_samples/(sampling_rate), num=np.shape(abc)[0], endpoint=True)"
   ]
  },
  {
   "cell_type": "code",
   "execution_count": 14,
   "metadata": {},
   "outputs": [
    {
     "ename": "NameError",
     "evalue": "name 'abc' is not defined",
     "output_type": "error",
     "traceback": [
      "\u001b[0;31m---------------------------------------------------------------------------\u001b[0m",
      "\u001b[0;31mNameError\u001b[0m                                 Traceback (most recent call last)",
      "Cell \u001b[0;32mIn[14], line 4\u001b[0m\n\u001b[1;32m      1\u001b[0m \u001b[38;5;28;01mimport\u001b[39;00m \u001b[38;5;21;01mmatplotlib\u001b[39;00m\u001b[38;5;21;01m.\u001b[39;00m\u001b[38;5;21;01mpyplot\u001b[39;00m \u001b[38;5;28;01mas\u001b[39;00m \u001b[38;5;21;01mplt\u001b[39;00m\n\u001b[1;32m      3\u001b[0m plt\u001b[38;5;241m.\u001b[39mfigure(figsize\u001b[38;5;241m=\u001b[39m(\u001b[38;5;241m17\u001b[39m,\u001b[38;5;241m8\u001b[39m))\n\u001b[0;32m----> 4\u001b[0m plt\u001b[38;5;241m.\u001b[39mplot(time,\u001b[43mabc\u001b[49m)\n",
      "\u001b[0;31mNameError\u001b[0m: name 'abc' is not defined"
     ]
    },
    {
     "data": {
      "text/plain": [
       "<Figure size 1700x800 with 0 Axes>"
      ]
     },
     "metadata": {},
     "output_type": "display_data"
    }
   ],
   "source": [
    "import matplotlib.pyplot as plt\n",
    "\n",
    "plt.figure(figsize=(17,8))\n",
    "plt.plot(time,abc)"
   ]
  },
  {
   "cell_type": "code",
   "execution_count": null,
   "metadata": {},
   "outputs": [],
   "source": [
    "ut.close_dynapse1(model)"
   ]
  },
  {
   "cell_type": "code",
   "execution_count": null,
   "metadata": {},
   "outputs": [],
   "source": []
  }
 ],
 "metadata": {
  "kernelspec": {
   "display_name": "DYNAP-SE1 Kernel",
   "language": "python",
   "name": "dynapse1"
  },
  "language_info": {
   "codemirror_mode": {
    "name": "ipython",
    "version": 3
   },
   "file_extension": ".py",
   "mimetype": "text/x-python",
   "name": "python",
   "nbconvert_exporter": "python",
   "pygments_lexer": "ipython3",
   "version": "3.8.20"
  }
 },
 "nbformat": 4,
 "nbformat_minor": 2
}
